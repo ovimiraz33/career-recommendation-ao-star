{
 "cells": [
  {
   "cell_type": "markdown",
   "id": "0e501584",
   "metadata": {},
   "source": [
    "# 🎓 Career Recommendation System using A* Search\n",
    "This project uses A* search algorithm to recommend careers based on user input, utilizing a dataset of characteristics and outcomes."
   ]
  },
  {
   "cell_type": "code",
   "execution_count": null,
   "id": "2a5f8673",
   "metadata": {},
   "outputs": [],
   "source": [
    "!pip install pandas scikit-learn matplotlib streamlit --quiet"
   ]
  },
  {
   "cell_type": "code",
   "execution_count": null,
   "id": "3e47a012",
   "metadata": {},
   "outputs": [],
   "source": [
    "\n",
    "import pandas as pd\n",
    "\n",
    "# Load the dataset\n",
    "df = pd.read_csv('/mnt/data/career_dataset_ao_star.csv')\n",
    "df\n"
   ]
  },
  {
   "cell_type": "code",
   "execution_count": null,
   "id": "0e2fa237",
   "metadata": {},
   "outputs": [],
   "source": [
    "\n",
    "# A* search algorithm for career recommendation based on user input\n",
    "\n",
    "import numpy as np\n",
    "\n",
    "# Define A* search algorithm\n",
    "def a_star_search(education, skills, interest):\n",
    "    # Define the decision logic based on user input\n",
    "    node = {'Education': education, 'Skills': skills, 'Interest': interest}\n",
    "    \n",
    "    # Simple scoring mechanism for decision-making\n",
    "    career_scores = {\n",
    "        \"Engineer\": (education == \"Science\" and interest == \"Technology\" and skills == \"High\"),\n",
    "        \"Programmer\": (education == \"Science\" and interest == \"Technology\" and skills == \"Medium\"),\n",
    "        \"Banker\": (education == \"Commerce\" and interest == \"Finance\" and skills == \"High\"),\n",
    "        \"Manager\": (education == \"Commerce\" and interest == \"Finance\" and skills == \"Medium\"),\n",
    "        \"Artist\": (education == \"Humanities\" and interest == \"Arts\" and skills == \"Low\"),\n",
    "        \"Writer\": (education == \"Humanities\" and interest == \"Arts\" and skills == \"High\"),\n",
    "    }\n",
    "\n",
    "    # Evaluate all careers and select the best match\n",
    "    scores = {career: score for career, score in career_scores.items()}\n",
    "    best_career = max(scores, key=scores.get)\n",
    "    \n",
    "    return best_career\n",
    "\n",
    "# Example input (test the function)\n",
    "user_input = {'Education': 'Science', 'Skills': 'High', 'Interest': 'Technology'}\n",
    "recommended_career = a_star_search(user_input['Education'], user_input['Skills'], user_input['Interest'])\n",
    "recommended_career\n"
   ]
  },
  {
   "cell_type": "code",
   "execution_count": null,
   "id": "dd0e5439",
   "metadata": {},
   "outputs": [],
   "source": [
    "\n",
    "# Streamlit UI for user input\n",
    "\n",
    "import streamlit as st\n",
    "\n",
    "# Function to run A* search and display result\n",
    "def career_advisor():\n",
    "    st.title(\"Career Recommendation - A* Search\")\n",
    "    \n",
    "    # Get user input\n",
    "    education = st.selectbox('Select Education Level:', ['Science', 'Commerce', 'Humanities'])\n",
    "    skills = st.selectbox('Select Skills Level:', ['High', 'Medium', 'Low'])\n",
    "    interest = st.selectbox('Select Area of Interest:', ['Technology', 'Finance', 'Arts'])\n",
    "    \n",
    "    # Calculate career recommendation\n",
    "    recommended_career = a_star_search(education, skills, interest)\n",
    "    \n",
    "    # Display the recommendation\n",
    "    st.write(f\"🎯 Recommended Career: {recommended_career}\")\n",
    "\n",
    "# Run the Streamlit app\n",
    "career_advisor()\n"
   ]
  },
  {
   "cell_type": "code",
   "execution_count": null,
   "id": "02a241b4",
   "metadata": {},
   "outputs": [],
   "source": [
    "\n",
    "# Running the Streamlit app using ngrok for Colab\n",
    "from pyngrok import ngrok\n",
    "!streamlit run app.py &>/content/log.txt &\n",
    "public_url = ngrok.connect(port='8501')\n",
    "print(public_url)\n"
   ]
  }
 ],
 "metadata": {},
 "nbformat": 4,
 "nbformat_minor": 5
}
